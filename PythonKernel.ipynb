{
 "cells": [
  {
   "cell_type": "code",
   "execution_count": 1,
   "id": "d33f171a-094f-40ef-80b1-f1be56eab76c",
   "metadata": {},
   "outputs": [
    {
     "name": "stdout",
     "output_type": "stream",
     "text": [
      " Volume in drive C has no label.\n",
      " Volume Serial Number is D429-F2CA\n",
      "\n",
      " Directory of C:\\Users\\agnes\\Desktop\\GG\\Student215410072\\json\n",
      "\n",
      "05/01/2025  18.14    <DIR>          .\n",
      "05/01/2025  18.14    <DIR>          ..\n",
      "05/01/2025  21.59            23.164 cerita_rohani.json\n",
      "               1 File(s)         23.164 bytes\n",
      "               2 Dir(s)  119.310.450.688 bytes free\n"
     ]
    }
   ],
   "source": [
    "ls json"
   ]
  },
  {
   "cell_type": "code",
   "execution_count": 2,
   "id": "f55c254b-ff6a-4673-9616-6d6c178acfba",
   "metadata": {},
   "outputs": [],
   "source": [
    "import pandas as pd\n",
    "\n",
    "# Membaca file JSON\n",
    "df = pd.read_json('./json/cerita_rohani.json')"
   ]
  },
  {
   "cell_type": "code",
   "execution_count": 3,
   "id": "91d93614-6683-4c53-9e15-52d92229df1d",
   "metadata": {},
   "outputs": [
    {
     "data": {
      "text/html": [
       "<div>\n",
       "<style scoped>\n",
       "    .dataframe tbody tr th:only-of-type {\n",
       "        vertical-align: middle;\n",
       "    }\n",
       "\n",
       "    .dataframe tbody tr th {\n",
       "        vertical-align: top;\n",
       "    }\n",
       "\n",
       "    .dataframe thead th {\n",
       "        text-align: right;\n",
       "    }\n",
       "</style>\n",
       "<table border=\"1\" class=\"dataframe\">\n",
       "  <thead>\n",
       "    <tr style=\"text-align: right;\">\n",
       "      <th></th>\n",
       "      <th>id</th>\n",
       "      <th>judul</th>\n",
       "      <th>img</th>\n",
       "      <th>content</th>\n",
       "      <th>kategori</th>\n",
       "      <th>sumber</th>\n",
       "    </tr>\n",
       "  </thead>\n",
       "  <tbody>\n",
       "    <tr>\n",
       "      <th>0</th>\n",
       "      <td>cerita_1</td>\n",
       "      <td>Allah Mulai Membuat Segala Sesuatu</td>\n",
       "      <td>[{'img_1': 'https://raw.githubusercontent.com/...</td>\n",
       "      <td>[{'paragraf_1': 'SEGALA sesuatu yang baik data...</td>\n",
       "      <td>Rohani</td>\n",
       "      <td>https://www.jw.org/id/perpustakaan/buku/cerita...</td>\n",
       "    </tr>\n",
       "    <tr>\n",
       "      <th>1</th>\n",
       "      <td>cerita_2</td>\n",
       "      <td>Taman yang Indah</td>\n",
       "      <td>[{'img_1': 'https://raw.githubusercontent.com/...</td>\n",
       "      <td>[{'paragraf_1': 'LIHATLAH bumi ini! Betapa bag...</td>\n",
       "      <td>Rohani</td>\n",
       "      <td>https://www.jw.org/id/perpustakaan/buku/cerita...</td>\n",
       "    </tr>\n",
       "    <tr>\n",
       "      <th>2</th>\n",
       "      <td>cerita_3</td>\n",
       "      <td>Lelaki dan Perempuan Pertama</td>\n",
       "      <td>[{'img_1': 'https://raw.githubusercontent.com/...</td>\n",
       "      <td>[{'paragraf_1': 'APA yang berbeda dalam gambar...</td>\n",
       "      <td>Rohani</td>\n",
       "      <td>https://www.jw.org/id/perpustakaan/buku/cerita...</td>\n",
       "    </tr>\n",
       "    <tr>\n",
       "      <th>3</th>\n",
       "      <td>cerita_4</td>\n",
       "      <td>Mengapa Mereka Kehilangan Tempat Tinggal Mereka</td>\n",
       "      <td>[{'img_1': 'https://raw.githubusercontent.com/...</td>\n",
       "      <td>[{'paragraf_1': 'COBA lihat apa yang terjadi. ...</td>\n",
       "      <td>Rohani</td>\n",
       "      <td>https://www.jw.org/id/perpustakaan/buku/cerita...</td>\n",
       "    </tr>\n",
       "    <tr>\n",
       "      <th>4</th>\n",
       "      <td>cerita_5</td>\n",
       "      <td>Hidup Mulai Jadi Susah</td>\n",
       "      <td>[{'img_1': 'https://raw.githubusercontent.com/...</td>\n",
       "      <td>[{'paragraf_1': 'DI LUAR taman Eden, Adam dan ...</td>\n",
       "      <td>Rohani</td>\n",
       "      <td>https://www.jw.org/id/perpustakaan/buku/cerita...</td>\n",
       "    </tr>\n",
       "  </tbody>\n",
       "</table>\n",
       "</div>"
      ],
      "text/plain": [
       "         id                                            judul  \\\n",
       "0  cerita_1               Allah Mulai Membuat Segala Sesuatu   \n",
       "1  cerita_2                                 Taman yang Indah   \n",
       "2  cerita_3                     Lelaki dan Perempuan Pertama   \n",
       "3  cerita_4  Mengapa Mereka Kehilangan Tempat Tinggal Mereka   \n",
       "4  cerita_5                           Hidup Mulai Jadi Susah   \n",
       "\n",
       "                                                 img  \\\n",
       "0  [{'img_1': 'https://raw.githubusercontent.com/...   \n",
       "1  [{'img_1': 'https://raw.githubusercontent.com/...   \n",
       "2  [{'img_1': 'https://raw.githubusercontent.com/...   \n",
       "3  [{'img_1': 'https://raw.githubusercontent.com/...   \n",
       "4  [{'img_1': 'https://raw.githubusercontent.com/...   \n",
       "\n",
       "                                             content kategori  \\\n",
       "0  [{'paragraf_1': 'SEGALA sesuatu yang baik data...   Rohani   \n",
       "1  [{'paragraf_1': 'LIHATLAH bumi ini! Betapa bag...   Rohani   \n",
       "2  [{'paragraf_1': 'APA yang berbeda dalam gambar...   Rohani   \n",
       "3  [{'paragraf_1': 'COBA lihat apa yang terjadi. ...   Rohani   \n",
       "4  [{'paragraf_1': 'DI LUAR taman Eden, Adam dan ...   Rohani   \n",
       "\n",
       "                                              sumber  \n",
       "0  https://www.jw.org/id/perpustakaan/buku/cerita...  \n",
       "1  https://www.jw.org/id/perpustakaan/buku/cerita...  \n",
       "2  https://www.jw.org/id/perpustakaan/buku/cerita...  \n",
       "3  https://www.jw.org/id/perpustakaan/buku/cerita...  \n",
       "4  https://www.jw.org/id/perpustakaan/buku/cerita...  "
      ]
     },
     "execution_count": 3,
     "metadata": {},
     "output_type": "execute_result"
    }
   ],
   "source": [
    "df.head()"
   ]
  },
  {
   "cell_type": "code",
   "execution_count": 5,
   "id": "12bae3ff-e507-47b6-a995-0fe77cbe0ff0",
   "metadata": {},
   "outputs": [
    {
     "name": "stdout",
     "output_type": "stream",
     "text": [
      "<class 'pandas.core.frame.DataFrame'>\n",
      "RangeIndex: 9 entries, 0 to 8\n",
      "Data columns (total 6 columns):\n",
      " #   Column    Non-Null Count  Dtype \n",
      "---  ------    --------------  ----- \n",
      " 0   id        9 non-null      object\n",
      " 1   judul     9 non-null      object\n",
      " 2   img       9 non-null      object\n",
      " 3   content   9 non-null      object\n",
      " 4   kategori  9 non-null      object\n",
      " 5   sumber    9 non-null      object\n",
      "dtypes: object(6)\n",
      "memory usage: 564.0+ bytes\n"
     ]
    }
   ],
   "source": [
    "df.info()"
   ]
  },
  {
   "cell_type": "code",
   "execution_count": null,
   "id": "3781c0de-93d2-4ee6-8289-65d122e27577",
   "metadata": {},
   "outputs": [],
   "source": []
  }
 ],
 "metadata": {
  "kernelspec": {
   "display_name": "Python 3 (ipykernel)",
   "language": "python",
   "name": "python3"
  },
  "language_info": {
   "codemirror_mode": {
    "name": "ipython",
    "version": 3
   },
   "file_extension": ".py",
   "mimetype": "text/x-python",
   "name": "python",
   "nbconvert_exporter": "python",
   "pygments_lexer": "ipython3",
   "version": "3.12.4"
  }
 },
 "nbformat": 4,
 "nbformat_minor": 5
}
